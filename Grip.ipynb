{
 "cells": [
  {
   "cell_type": "markdown",
   "metadata": {},
   "source": [
    "# Stock Market Prediction using Numerical and Textual Analysis\n",
    "**TASK** : Create a hybrid model for stock price/performance prediction\n",
    "using numerical analysis of historical stock prices, and sentimental analysis of\n",
    "news headlines<br><br>\n",
    "● Stock to analyze and predict - SENSEX (S&P BSE SENSEX)<br><br>\n",
    "**Data Sources**<br>\n",
    "● Historical stock prices from finance.yahoo.com<br>\n",
    "● Textual (news) data from https://bit.ly/36fFPI6"
   ]
  },
  {
   "cell_type": "markdown",
   "metadata": {},
   "source": []
  },
  {
   "cell_type": "markdown",
   "metadata": {},
   "source": [
    "# Import libraries "
   ]
  },
  {
   "cell_type": "code",
   "execution_count": 3,
   "metadata": {},
   "outputs": [
    {
     "name": "stdout",
     "output_type": "stream",
     "text": [
      "Populating the interactive namespace from numpy and matplotlib\n"
     ]
    }
   ],
   "source": [
    "%pylab inline\n",
    "import pandas as pd\n",
    "import tensorflow as tf\n",
    "import warnings\n",
    "warnings.filterwarnings('ignore')\n",
    "from vaderSentiment.vaderSentiment import SentimentIntensityAnalyzer"
   ]
  },
  {
   "cell_type": "markdown",
   "metadata": {},
   "source": [
    "# Load Dataset  ( News Data )"
   ]
  },
  {
   "cell_type": "code",
   "execution_count": 4,
   "metadata": {},
   "outputs": [
    {
     "data": {
      "text/html": [
       "<div>\n",
       "<style scoped>\n",
       "    .dataframe tbody tr th:only-of-type {\n",
       "        vertical-align: middle;\n",
       "    }\n",
       "\n",
       "    .dataframe tbody tr th {\n",
       "        vertical-align: top;\n",
       "    }\n",
       "\n",
       "    .dataframe thead th {\n",
       "        text-align: right;\n",
       "    }\n",
       "</style>\n",
       "<table border=\"1\" class=\"dataframe\">\n",
       "  <thead>\n",
       "    <tr style=\"text-align: right;\">\n",
       "      <th></th>\n",
       "      <th>publish_date</th>\n",
       "      <th>headline_category</th>\n",
       "      <th>headline_text</th>\n",
       "    </tr>\n",
       "  </thead>\n",
       "  <tbody>\n",
       "    <tr>\n",
       "      <th>0</th>\n",
       "      <td>20010101</td>\n",
       "      <td>sports.wwe</td>\n",
       "      <td>win over cena satisfying but defeating underta...</td>\n",
       "    </tr>\n",
       "    <tr>\n",
       "      <th>1</th>\n",
       "      <td>20010102</td>\n",
       "      <td>unknown</td>\n",
       "      <td>Status quo will not be disturbed at Ayodhya; s...</td>\n",
       "    </tr>\n",
       "    <tr>\n",
       "      <th>2</th>\n",
       "      <td>20010102</td>\n",
       "      <td>unknown</td>\n",
       "      <td>Fissures in Hurriyat over Pak visit</td>\n",
       "    </tr>\n",
       "    <tr>\n",
       "      <th>3</th>\n",
       "      <td>20010102</td>\n",
       "      <td>unknown</td>\n",
       "      <td>America's unwanted heading for India?</td>\n",
       "    </tr>\n",
       "    <tr>\n",
       "      <th>4</th>\n",
       "      <td>20010102</td>\n",
       "      <td>unknown</td>\n",
       "      <td>For bigwigs; it is destination Goa</td>\n",
       "    </tr>\n",
       "  </tbody>\n",
       "</table>\n",
       "</div>"
      ],
      "text/plain": [
       "   publish_date headline_category  \\\n",
       "0      20010101        sports.wwe   \n",
       "1      20010102           unknown   \n",
       "2      20010102           unknown   \n",
       "3      20010102           unknown   \n",
       "4      20010102           unknown   \n",
       "\n",
       "                                       headline_text  \n",
       "0  win over cena satisfying but defeating underta...  \n",
       "1  Status quo will not be disturbed at Ayodhya; s...  \n",
       "2                Fissures in Hurriyat over Pak visit  \n",
       "3              America's unwanted heading for India?  \n",
       "4                 For bigwigs; it is destination Goa  "
      ]
     },
     "execution_count": 4,
     "metadata": {},
     "output_type": "execute_result"
    }
   ],
   "source": [
    "news = pd.read_csv('news_headlines.csv')\n",
    "\n",
    "news.head()"
   ]
  },
  {
   "cell_type": "code",
   "execution_count": 5,
   "metadata": {},
   "outputs": [
    {
     "data": {
      "text/plain": [
       "Index(['Date', 'headline_category', 'headline_text'], dtype='object')"
      ]
     },
     "execution_count": 5,
     "metadata": {},
     "output_type": "execute_result"
    }
   ],
   "source": [
    "news.rename(columns={ 'publish_date':'Date'}, inplace=True)\n",
    "news.columns"
   ]
  },
  {
   "cell_type": "code",
   "execution_count": 6,
   "metadata": {},
   "outputs": [
    {
     "data": {
      "text/plain": [
       "(3297172, 3)"
      ]
     },
     "execution_count": 6,
     "metadata": {},
     "output_type": "execute_result"
    }
   ],
   "source": [
    "news.shape"
   ]
  },
  {
   "cell_type": "markdown",
   "metadata": {},
   "source": [
    "<br> getting year, month and day in separate columns "
   ]
  },
  {
   "cell_type": "code",
   "execution_count": 7,
   "metadata": {},
   "outputs": [
    {
     "data": {
      "text/html": [
       "<div>\n",
       "<style scoped>\n",
       "    .dataframe tbody tr th:only-of-type {\n",
       "        vertical-align: middle;\n",
       "    }\n",
       "\n",
       "    .dataframe tbody tr th {\n",
       "        vertical-align: top;\n",
       "    }\n",
       "\n",
       "    .dataframe thead th {\n",
       "        text-align: right;\n",
       "    }\n",
       "</style>\n",
       "<table border=\"1\" class=\"dataframe\">\n",
       "  <thead>\n",
       "    <tr style=\"text-align: right;\">\n",
       "      <th></th>\n",
       "      <th>Date</th>\n",
       "      <th>headline_category</th>\n",
       "      <th>headline_text</th>\n",
       "      <th>year</th>\n",
       "      <th>month</th>\n",
       "      <th>day</th>\n",
       "    </tr>\n",
       "  </thead>\n",
       "  <tbody>\n",
       "    <tr>\n",
       "      <th>0</th>\n",
       "      <td>20010101</td>\n",
       "      <td>sports.wwe</td>\n",
       "      <td>win over cena satisfying but defeating underta...</td>\n",
       "      <td>2001</td>\n",
       "      <td>1</td>\n",
       "      <td>1</td>\n",
       "    </tr>\n",
       "    <tr>\n",
       "      <th>1</th>\n",
       "      <td>20010102</td>\n",
       "      <td>unknown</td>\n",
       "      <td>Status quo will not be disturbed at Ayodhya; s...</td>\n",
       "      <td>2001</td>\n",
       "      <td>1</td>\n",
       "      <td>2</td>\n",
       "    </tr>\n",
       "    <tr>\n",
       "      <th>2</th>\n",
       "      <td>20010102</td>\n",
       "      <td>unknown</td>\n",
       "      <td>Fissures in Hurriyat over Pak visit</td>\n",
       "      <td>2001</td>\n",
       "      <td>1</td>\n",
       "      <td>2</td>\n",
       "    </tr>\n",
       "    <tr>\n",
       "      <th>3</th>\n",
       "      <td>20010102</td>\n",
       "      <td>unknown</td>\n",
       "      <td>America's unwanted heading for India?</td>\n",
       "      <td>2001</td>\n",
       "      <td>1</td>\n",
       "      <td>2</td>\n",
       "    </tr>\n",
       "    <tr>\n",
       "      <th>4</th>\n",
       "      <td>20010102</td>\n",
       "      <td>unknown</td>\n",
       "      <td>For bigwigs; it is destination Goa</td>\n",
       "      <td>2001</td>\n",
       "      <td>1</td>\n",
       "      <td>2</td>\n",
       "    </tr>\n",
       "  </tbody>\n",
       "</table>\n",
       "</div>"
      ],
      "text/plain": [
       "       Date headline_category  \\\n",
       "0  20010101        sports.wwe   \n",
       "1  20010102           unknown   \n",
       "2  20010102           unknown   \n",
       "3  20010102           unknown   \n",
       "4  20010102           unknown   \n",
       "\n",
       "                                       headline_text  year  month  day  \n",
       "0  win over cena satisfying but defeating underta...  2001      1    1  \n",
       "1  Status quo will not be disturbed at Ayodhya; s...  2001      1    2  \n",
       "2                Fissures in Hurriyat over Pak visit  2001      1    2  \n",
       "3              America's unwanted heading for India?  2001      1    2  \n",
       "4                 For bigwigs; it is destination Goa  2001      1    2  "
      ]
     },
     "execution_count": 7,
     "metadata": {},
     "output_type": "execute_result"
    }
   ],
   "source": [
    "news['year'] = [ int(str(x)[:4]) for x in news['Date'] ]\n",
    "news['month'] = [ int(str(x)[4:6]) for x in news['Date'] ]\n",
    "news['day'] = [ int(str(x)[-2:]) for x in news['Date'] ]\n",
    "\n",
    "news.head()"
   ]
  },
  {
   "cell_type": "code",
   "execution_count": 8,
   "metadata": {},
   "outputs": [
    {
     "data": {
      "text/html": [
       "<div>\n",
       "<style scoped>\n",
       "    .dataframe tbody tr th:only-of-type {\n",
       "        vertical-align: middle;\n",
       "    }\n",
       "\n",
       "    .dataframe tbody tr th {\n",
       "        vertical-align: top;\n",
       "    }\n",
       "\n",
       "    .dataframe thead th {\n",
       "        text-align: right;\n",
       "    }\n",
       "</style>\n",
       "<table border=\"1\" class=\"dataframe\">\n",
       "  <thead>\n",
       "    <tr style=\"text-align: right;\">\n",
       "      <th></th>\n",
       "      <th>Date</th>\n",
       "      <th>headline_category</th>\n",
       "      <th>headline_text</th>\n",
       "      <th>year</th>\n",
       "      <th>month</th>\n",
       "      <th>day</th>\n",
       "    </tr>\n",
       "  </thead>\n",
       "  <tbody>\n",
       "    <tr>\n",
       "      <th>0</th>\n",
       "      <td>2001-1-1</td>\n",
       "      <td>sports.wwe</td>\n",
       "      <td>win over cena satisfying but defeating underta...</td>\n",
       "      <td>2001</td>\n",
       "      <td>1</td>\n",
       "      <td>1</td>\n",
       "    </tr>\n",
       "    <tr>\n",
       "      <th>1</th>\n",
       "      <td>2001-1-2</td>\n",
       "      <td>unknown</td>\n",
       "      <td>Status quo will not be disturbed at Ayodhya; s...</td>\n",
       "      <td>2001</td>\n",
       "      <td>1</td>\n",
       "      <td>2</td>\n",
       "    </tr>\n",
       "    <tr>\n",
       "      <th>2</th>\n",
       "      <td>2001-1-2</td>\n",
       "      <td>unknown</td>\n",
       "      <td>Fissures in Hurriyat over Pak visit</td>\n",
       "      <td>2001</td>\n",
       "      <td>1</td>\n",
       "      <td>2</td>\n",
       "    </tr>\n",
       "    <tr>\n",
       "      <th>3</th>\n",
       "      <td>2001-1-2</td>\n",
       "      <td>unknown</td>\n",
       "      <td>America's unwanted heading for India?</td>\n",
       "      <td>2001</td>\n",
       "      <td>1</td>\n",
       "      <td>2</td>\n",
       "    </tr>\n",
       "    <tr>\n",
       "      <th>4</th>\n",
       "      <td>2001-1-2</td>\n",
       "      <td>unknown</td>\n",
       "      <td>For bigwigs; it is destination Goa</td>\n",
       "      <td>2001</td>\n",
       "      <td>1</td>\n",
       "      <td>2</td>\n",
       "    </tr>\n",
       "  </tbody>\n",
       "</table>\n",
       "</div>"
      ],
      "text/plain": [
       "       Date headline_category  \\\n",
       "0  2001-1-1        sports.wwe   \n",
       "1  2001-1-2           unknown   \n",
       "2  2001-1-2           unknown   \n",
       "3  2001-1-2           unknown   \n",
       "4  2001-1-2           unknown   \n",
       "\n",
       "                                       headline_text  year month day  \n",
       "0  win over cena satisfying but defeating underta...  2001     1   1  \n",
       "1  Status quo will not be disturbed at Ayodhya; s...  2001     1   2  \n",
       "2                Fissures in Hurriyat over Pak visit  2001     1   2  \n",
       "3              America's unwanted heading for India?  2001     1   2  \n",
       "4                 For bigwigs; it is destination Goa  2001     1   2  "
      ]
     },
     "execution_count": 8,
     "metadata": {},
     "output_type": "execute_result"
    }
   ],
   "source": [
    "news['year'] = [ str(x) for x in news['year']]\n",
    "news['month'] = [ str(x) for x in news['month']]\n",
    "news['day'] = [ str(x) for x in news['day']]\n",
    "\n",
    "news['Date'] = news['year'] +'-'+ news['month'] +'-'+ news['day']\n",
    "\n",
    "news.head()"
   ]
  },
  {
   "cell_type": "markdown",
   "metadata": {},
   "source": [
    "<br> now we have Date in Datetime format. we can simply use to_datetime() functionality of pandas."
   ]
  },
  {
   "cell_type": "code",
   "execution_count": 17,
   "metadata": {},
   "outputs": [],
   "source": [
    "news['Date'] = pd.to_datetime(news['Date'])"
   ]
  },
  {
   "cell_type": "code",
   "execution_count": 11,
   "metadata": {},
   "outputs": [
    {
     "data": {
      "text/plain": [
       "Date                 datetime64[ns]\n",
       "headline_category            object\n",
       "headline_text                object\n",
       "year                         object\n",
       "month                        object\n",
       "day                          object\n",
       "dtype: object"
      ]
     },
     "execution_count": 11,
     "metadata": {},
     "output_type": "execute_result"
    }
   ],
   "source": [
    "news.dtypes"
   ]
  },
  {
   "cell_type": "markdown",
   "metadata": {},
   "source": [
    "<br>**year-wise news articles**"
   ]
  },
  {
   "cell_type": "code",
   "execution_count": 14,
   "metadata": {},
   "outputs": [
    {
     "data": {
      "text/plain": [
       "[<matplotlib.lines.Line2D at 0x19d3c92a358>]"
      ]
     },
     "execution_count": 14,
     "metadata": {},
     "output_type": "execute_result"
    },
    {
     "data": {
      "image/png": "[encoded data removed]",
      "text/plain": [
       "<Figure size 1080x432 with 1 Axes>"
      ]
     },
     "metadata": {
      "needs_background": "light"
     },
     "output_type": "display_data"
    }
   ],
   "source": [
    "year_wise = pd.DataFrame(news.groupby('year')['headline_text'].count())\n",
    "\n",
    "plt.figure(figsize(15,6))\n",
    "plt.bar(x = year_wise.index, height = year_wise['headline_text'])\n",
    "plt.xticks(year_wise.index)\n",
    "plt.plot(year_wise['headline_text'], color='red')"
   ]
  },
  {
   "cell_type": "markdown",
   "metadata": {},
   "source": [
    "second decade has much higher articles published as compared to first decade, surely because of increase in electronic media."
   ]
  },
  {
   "cell_type": "markdown",
   "metadata": {},
   "source": [
    "<br>**month-wise news articles**"
   ]
  },
  {
   "cell_type": "code",
   "execution_count": 15,
   "metadata": {},
   "outputs": [
    {
     "data": {
      "image/png": "[encoded data removed]",
      "text/plain": [
       "<Figure size 504x504 with 1 Axes>"
      ]
     },
     "metadata": {},
     "output_type": "display_data"
    }
   ],
   "source": [
    "month_wise = pd.DataFrame(news.groupby('month')['headline_text'].count())\n",
    "\n",
    "labels = ['jan', 'feb', 'mar','apr','may','june', 'july', 'aug', 'sept', 'oct', 'nov','dec']\n",
    "\n",
    "plt.figure(figsize=(7,7))\n",
    "plt.pie(month_wise['headline_text'], labels= labels, autopct='%1.1f%%' )\n",
    "plt.show()"
   ]
  },
  {
   "cell_type": "markdown",
   "metadata": {},
   "source": [
    "almost every month has equal number of articles published."
   ]
  },
  {
   "cell_type": "markdown",
   "metadata": {},
   "source": [
    "# Sentiment Analysis of News headlines using \"VADER Sentiment Analysis\"\\\n",
    "\n",
    "VADER (Valence Aware Dictionary and sEntiment Reasoner)\n",
    "is a lexicon and rule-based sentiment analysis tool that is specifically attuned to sentiments expressed in social media.\n",
    "<br>\n",
    "VADER not only tells about the Positivity and Negativity score but also tells us about how positive or negative a sentiment is."
   ]
  },
  {
   "cell_type": "code",
   "execution_count": 13,
   "metadata": {},
   "outputs": [],
   "source": [
    "from vaderSentiment.vaderSentiment import SentimentIntensityAnalyzer\n",
    "sia = SentimentIntensityAnalyzer()\n",
    "\n",
    "def sentiment_analysis(text):                  \n",
    "    sentiment = sia.polarity_scores(text)\n",
    "    return sentiment"
   ]
  },
  {
   "cell_type": "markdown",
   "metadata": {},
   "source": [
    "\n",
    "if compound>0.2, labelling it as positive (1)<br>\n",
    "if compound<-0.2; negative   (-1) <br>\n",
    "and if  0.2 <= compound <= -0.2;  neutral  (0)"
   ]
  },
  {
   "cell_type": "code",
   "execution_count": null,
   "metadata": {},
   "outputs": [],
   "source": [
    "for i in range( len(news['headline_text']) ):\n",
    "    Dict = sentiment_analysis( news['headline_text'][i] )\n",
    "  \n",
    "\n",
    "    news['negative']=Nan\n",
    "    news['neutral']=Nan\n",
    "    news['positive']=Nan\n",
    "    news['compound']=Nan\n",
    "    news['sentiment']=Nan\n",
    "    \n",
    "    \n",
    "    news['negative'][i] = Dict['neg']\n",
    "    news['positive'][i] = Dict['pos']\n",
    "    news['neutral'][i] = Dict['neu']\n",
    "    news['compound'][i] = Dict['compound']\n",
    "  \n",
    "\n",
    "    if Dict['compound'] >= 0.2:\n",
    "        news['sentiment'][i] = 1                        # 1 : positive\n",
    "    elif Dict['compound'] <= -0.2:\n",
    "        news['sentiment'][i] = -1                       # -1 : negative\n",
    "    else:\n",
    "        news['sentiment'][i] = 0                        # 0 : neutral\n"
   ]
  },
  {
   "cell_type": "code",
   "execution_count": 14,
   "metadata": {},
   "outputs": [],
   "source": []
  },
  {
   "cell_type": "code",
   "execution_count": 15,
   "metadata": {},
   "outputs": [
    {
     "data": {
      "text/html": [
       "<div>\n",
       "<style scoped>\n",
       "    .dataframe tbody tr th:only-of-type {\n",
       "        vertical-align: middle;\n",
       "    }\n",
       "\n",
       "    .dataframe tbody tr th {\n",
       "        vertical-align: top;\n",
       "    }\n",
       "\n",
       "    .dataframe thead th {\n",
       "        text-align: right;\n",
       "    }\n",
       "</style>\n",
       "<table border=\"1\" class=\"dataframe\">\n",
       "  <thead>\n",
       "    <tr style=\"text-align: right;\">\n",
       "      <th></th>\n",
       "      <th>Date</th>\n",
       "      <th>headline_category</th>\n",
       "      <th>headline_text</th>\n",
       "      <th>year</th>\n",
       "      <th>month</th>\n",
       "      <th>day</th>\n",
       "      <th>positive</th>\n",
       "      <th>negative</th>\n",
       "      <th>neutral</th>\n",
       "      <th>compound</th>\n",
       "      <th>sentiment</th>\n",
       "    </tr>\n",
       "  </thead>\n",
       "  <tbody>\n",
       "    <tr>\n",
       "      <th>0</th>\n",
       "      <td>2001-01-01</td>\n",
       "      <td>sports.wwe</td>\n",
       "      <td>win over cena satisfying but defeating underta...</td>\n",
       "      <td>2001</td>\n",
       "      <td>1</td>\n",
       "      <td>1</td>\n",
       "      <td>0.297</td>\n",
       "      <td>0.230</td>\n",
       "      <td>0.473</td>\n",
       "      <td>-0.0000</td>\n",
       "      <td>0.0</td>\n",
       "    </tr>\n",
       "    <tr>\n",
       "      <th>1</th>\n",
       "      <td>2001-01-02</td>\n",
       "      <td>unknown</td>\n",
       "      <td>Status quo will not be disturbed at Ayodhya; s...</td>\n",
       "      <td>2001</td>\n",
       "      <td>1</td>\n",
       "      <td>2</td>\n",
       "      <td>0.195</td>\n",
       "      <td>0.000</td>\n",
       "      <td>0.805</td>\n",
       "      <td>0.2924</td>\n",
       "      <td>1.0</td>\n",
       "    </tr>\n",
       "    <tr>\n",
       "      <th>2</th>\n",
       "      <td>2001-01-02</td>\n",
       "      <td>unknown</td>\n",
       "      <td>Fissures in Hurriyat over Pak visit</td>\n",
       "      <td>2001</td>\n",
       "      <td>1</td>\n",
       "      <td>2</td>\n",
       "      <td>0.000</td>\n",
       "      <td>0.000</td>\n",
       "      <td>1.000</td>\n",
       "      <td>0.0000</td>\n",
       "      <td>0.0</td>\n",
       "    </tr>\n",
       "    <tr>\n",
       "      <th>3</th>\n",
       "      <td>2001-01-02</td>\n",
       "      <td>unknown</td>\n",
       "      <td>America's unwanted heading for India?</td>\n",
       "      <td>2001</td>\n",
       "      <td>1</td>\n",
       "      <td>2</td>\n",
       "      <td>0.000</td>\n",
       "      <td>0.322</td>\n",
       "      <td>0.678</td>\n",
       "      <td>-0.2263</td>\n",
       "      <td>-1.0</td>\n",
       "    </tr>\n",
       "    <tr>\n",
       "      <th>4</th>\n",
       "      <td>2001-01-02</td>\n",
       "      <td>unknown</td>\n",
       "      <td>For bigwigs; it is destination Goa</td>\n",
       "      <td>2001</td>\n",
       "      <td>1</td>\n",
       "      <td>2</td>\n",
       "      <td>0.000</td>\n",
       "      <td>0.000</td>\n",
       "      <td>1.000</td>\n",
       "      <td>0.0000</td>\n",
       "      <td>0.0</td>\n",
       "    </tr>\n",
       "  </tbody>\n",
       "</table>\n",
       "</div>"
      ],
      "text/plain": [
       "         Date headline_category  \\\n",
       "0  2001-01-01        sports.wwe   \n",
       "1  2001-01-02           unknown   \n",
       "2  2001-01-02           unknown   \n",
       "3  2001-01-02           unknown   \n",
       "4  2001-01-02           unknown   \n",
       "\n",
       "                                       headline_text  year  month  day  \\\n",
       "0  win over cena satisfying but defeating underta...  2001      1    1   \n",
       "1  Status quo will not be disturbed at Ayodhya; s...  2001      1    2   \n",
       "2                Fissures in Hurriyat over Pak visit  2001      1    2   \n",
       "3              America's unwanted heading for India?  2001      1    2   \n",
       "4                 For bigwigs; it is destination Goa  2001      1    2   \n",
       "\n",
       "   positive  negative  neutral  compound  sentiment  \n",
       "0     0.297     0.230    0.473   -0.0000        0.0  \n",
       "1     0.195     0.000    0.805    0.2924        1.0  \n",
       "2     0.000     0.000    1.000    0.0000        0.0  \n",
       "3     0.000     0.322    0.678   -0.2263       -1.0  \n",
       "4     0.000     0.000    1.000    0.0000        0.0  "
      ]
     },
     "execution_count": 15,
     "metadata": {},
     "output_type": "execute_result"
    }
   ],
   "source": [
    "news.head()"
   ]
  },
  {
   "cell_type": "code",
   "execution_count": 18,
   "metadata": {},
   "outputs": [
    {
     "data": {
      "text/plain": [
       "Date                 datetime64[ns]\n",
       "headline_category            object\n",
       "headline_text                object\n",
       "year                          int64\n",
       "month                         int64\n",
       "day                           int64\n",
       "positive                    float64\n",
       "negative                    float64\n",
       "neutral                     float64\n",
       "compound                    float64\n",
       "sentiment                   float64\n",
       "dtype: object"
      ]
     },
     "execution_count": 18,
     "metadata": {},
     "output_type": "execute_result"
    }
   ],
   "source": [
    "news.dtypes"
   ]
  },
  {
   "cell_type": "code",
   "execution_count": null,
   "metadata": {},
   "outputs": [],
   "source": []
  },
  {
   "cell_type": "markdown",
   "metadata": {},
   "source": [
    "# SENSEX dataset\n",
    "Load Data<br>we have 20 years of sensex data, starting from 2001-01-02 to 2020-29-06 "
   ]
  },
  {
   "cell_type": "code",
   "execution_count": 19,
   "metadata": {},
   "outputs": [
    {
     "data": {
      "text/html": [
       "<div>\n",
       "<style scoped>\n",
       "    .dataframe tbody tr th:only-of-type {\n",
       "        vertical-align: middle;\n",
       "    }\n",
       "\n",
       "    .dataframe tbody tr th {\n",
       "        vertical-align: top;\n",
       "    }\n",
       "\n",
       "    .dataframe thead th {\n",
       "        text-align: right;\n",
       "    }\n",
       "</style>\n",
       "<table border=\"1\" class=\"dataframe\">\n",
       "  <thead>\n",
       "    <tr style=\"text-align: right;\">\n",
       "      <th></th>\n",
       "      <th>Date</th>\n",
       "      <th>Open</th>\n",
       "      <th>High</th>\n",
       "      <th>Low</th>\n",
       "      <th>Close</th>\n",
       "      <th>Adj Close</th>\n",
       "      <th>Volume</th>\n",
       "    </tr>\n",
       "  </thead>\n",
       "  <tbody>\n",
       "    <tr>\n",
       "      <th>0</th>\n",
       "      <td>2001-01-02</td>\n",
       "      <td>3953.219971</td>\n",
       "      <td>4028.570068</td>\n",
       "      <td>3929.370117</td>\n",
       "      <td>4018.879883</td>\n",
       "      <td>4018.879883</td>\n",
       "      <td>0.0</td>\n",
       "    </tr>\n",
       "    <tr>\n",
       "      <th>1</th>\n",
       "      <td>2001-01-03</td>\n",
       "      <td>3977.580078</td>\n",
       "      <td>4067.659912</td>\n",
       "      <td>3977.580078</td>\n",
       "      <td>4060.020020</td>\n",
       "      <td>4060.020020</td>\n",
       "      <td>0.0</td>\n",
       "    </tr>\n",
       "    <tr>\n",
       "      <th>2</th>\n",
       "      <td>2001-01-04</td>\n",
       "      <td>4180.970215</td>\n",
       "      <td>4180.970215</td>\n",
       "      <td>4109.549805</td>\n",
       "      <td>4115.370117</td>\n",
       "      <td>4115.370117</td>\n",
       "      <td>0.0</td>\n",
       "    </tr>\n",
       "    <tr>\n",
       "      <th>3</th>\n",
       "      <td>2001-01-05</td>\n",
       "      <td>4116.339844</td>\n",
       "      <td>4195.009766</td>\n",
       "      <td>4115.350098</td>\n",
       "      <td>4183.729980</td>\n",
       "      <td>4183.729980</td>\n",
       "      <td>0.0</td>\n",
       "    </tr>\n",
       "    <tr>\n",
       "      <th>4</th>\n",
       "      <td>2001-01-08</td>\n",
       "      <td>4164.759766</td>\n",
       "      <td>4206.720215</td>\n",
       "      <td>4101.529785</td>\n",
       "      <td>4120.430176</td>\n",
       "      <td>4120.430176</td>\n",
       "      <td>0.0</td>\n",
       "    </tr>\n",
       "  </tbody>\n",
       "</table>\n",
       "</div>"
      ],
      "text/plain": [
       "         Date         Open         High          Low        Close  \\\n",
       "0  2001-01-02  3953.219971  4028.570068  3929.370117  4018.879883   \n",
       "1  2001-01-03  3977.580078  4067.659912  3977.580078  4060.020020   \n",
       "2  2001-01-04  4180.970215  4180.970215  4109.549805  4115.370117   \n",
       "3  2001-01-05  4116.339844  4195.009766  4115.350098  4183.729980   \n",
       "4  2001-01-08  4164.759766  4206.720215  4101.529785  4120.430176   \n",
       "\n",
       "     Adj Close  Volume  \n",
       "0  4018.879883     0.0  \n",
       "1  4060.020020     0.0  \n",
       "2  4115.370117     0.0  \n",
       "3  4183.729980     0.0  \n",
       "4  4120.430176     0.0  "
      ]
     },
     "execution_count": 19,
     "metadata": {},
     "output_type": "execute_result"
    }
   ],
   "source": [
    "sensex  = pd.read_csv('sensex.csv')\n",
    "\n",
    "sensex.head()"
   ]
  },
  {
   "cell_type": "code",
   "execution_count": 20,
   "metadata": {},
   "outputs": [
    {
     "data": {
      "text/plain": [
       "(4868, 7)"
      ]
     },
     "execution_count": 20,
     "metadata": {},
     "output_type": "execute_result"
    }
   ],
   "source": [
    "sensex.shape"
   ]
  },
  {
   "cell_type": "code",
   "execution_count": 21,
   "metadata": {},
   "outputs": [
    {
     "data": {
      "text/plain": [
       "Date          0\n",
       "Open         74\n",
       "High         74\n",
       "Low          74\n",
       "Close        74\n",
       "Adj Close    74\n",
       "Volume       74\n",
       "dtype: int64"
      ]
     },
     "execution_count": 21,
     "metadata": {},
     "output_type": "execute_result"
    }
   ],
   "source": [
    "sensex.isnull().sum()"
   ]
  },
  {
   "cell_type": "markdown",
   "metadata": {},
   "source": [
    "74 null values out of 4868 datapoints, better to drop them."
   ]
  },
  {
   "cell_type": "code",
   "execution_count": 23,
   "metadata": {},
   "outputs": [],
   "source": [
    "sensex.dropna(inplace=True)"
   ]
  },
  {
   "cell_type": "code",
   "execution_count": 24,
   "metadata": {},
   "outputs": [],
   "source": [
    "sensex['Date'] = pd.to_datetime(sensex['Date'])"
   ]
  },
  {
   "cell_type": "markdown",
   "metadata": {},
   "source": [
    "**subtracting sensex['Open'] from sensex['Close'], which will tell us if sensex went up or down that day.**"
   ]
  },
  {
   "cell_type": "code",
   "execution_count": 25,
   "metadata": {},
   "outputs": [],
   "source": [
    "sensex['market'] = sensex['Close'] - sensex['Open']\n",
    "\n",
    "sensex.loc[sensex['market']>0, 'market'] = 1\n",
    "sensex.loc[sensex['market']<=0, 'market'] = 0"
   ]
  },
  {
   "cell_type": "markdown",
   "metadata": {},
   "source": [
    "if sensex went up, i.e., >0 ( labelling as 1)<br>\n",
    "if sensex went down, i.e., <=0 ( labelling as 0)"
   ]
  },
  {
   "cell_type": "code",
   "execution_count": 26,
   "metadata": {},
   "outputs": [
    {
     "data": {
      "text/html": [
       "<div>\n",
       "<style scoped>\n",
       "    .dataframe tbody tr th:only-of-type {\n",
       "        vertical-align: middle;\n",
       "    }\n",
       "\n",
       "    .dataframe tbody tr th {\n",
       "        vertical-align: top;\n",
       "    }\n",
       "\n",
       "    .dataframe thead th {\n",
       "        text-align: right;\n",
       "    }\n",
       "</style>\n",
       "<table border=\"1\" class=\"dataframe\">\n",
       "  <thead>\n",
       "    <tr style=\"text-align: right;\">\n",
       "      <th></th>\n",
       "      <th>Date</th>\n",
       "      <th>Open</th>\n",
       "      <th>High</th>\n",
       "      <th>Low</th>\n",
       "      <th>Close</th>\n",
       "      <th>Adj Close</th>\n",
       "      <th>Volume</th>\n",
       "      <th>market</th>\n",
       "    </tr>\n",
       "  </thead>\n",
       "  <tbody>\n",
       "    <tr>\n",
       "      <th>0</th>\n",
       "      <td>2001-01-02</td>\n",
       "      <td>3953.219971</td>\n",
       "      <td>4028.570068</td>\n",
       "      <td>3929.370117</td>\n",
       "      <td>4018.879883</td>\n",
       "      <td>4018.879883</td>\n",
       "      <td>0.0</td>\n",
       "      <td>1.0</td>\n",
       "    </tr>\n",
       "    <tr>\n",
       "      <th>1</th>\n",
       "      <td>2001-01-03</td>\n",
       "      <td>3977.580078</td>\n",
       "      <td>4067.659912</td>\n",
       "      <td>3977.580078</td>\n",
       "      <td>4060.020020</td>\n",
       "      <td>4060.020020</td>\n",
       "      <td>0.0</td>\n",
       "      <td>1.0</td>\n",
       "    </tr>\n",
       "    <tr>\n",
       "      <th>2</th>\n",
       "      <td>2001-01-04</td>\n",
       "      <td>4180.970215</td>\n",
       "      <td>4180.970215</td>\n",
       "      <td>4109.549805</td>\n",
       "      <td>4115.370117</td>\n",
       "      <td>4115.370117</td>\n",
       "      <td>0.0</td>\n",
       "      <td>0.0</td>\n",
       "    </tr>\n",
       "    <tr>\n",
       "      <th>3</th>\n",
       "      <td>2001-01-05</td>\n",
       "      <td>4116.339844</td>\n",
       "      <td>4195.009766</td>\n",
       "      <td>4115.350098</td>\n",
       "      <td>4183.729980</td>\n",
       "      <td>4183.729980</td>\n",
       "      <td>0.0</td>\n",
       "      <td>1.0</td>\n",
       "    </tr>\n",
       "    <tr>\n",
       "      <th>4</th>\n",
       "      <td>2001-01-08</td>\n",
       "      <td>4164.759766</td>\n",
       "      <td>4206.720215</td>\n",
       "      <td>4101.529785</td>\n",
       "      <td>4120.430176</td>\n",
       "      <td>4120.430176</td>\n",
       "      <td>0.0</td>\n",
       "      <td>0.0</td>\n",
       "    </tr>\n",
       "  </tbody>\n",
       "</table>\n",
       "</div>"
      ],
      "text/plain": [
       "        Date         Open         High          Low        Close    Adj Close  \\\n",
       "0 2001-01-02  3953.219971  4028.570068  3929.370117  4018.879883  4018.879883   \n",
       "1 2001-01-03  3977.580078  4067.659912  3977.580078  4060.020020  4060.020020   \n",
       "2 2001-01-04  4180.970215  4180.970215  4109.549805  4115.370117  4115.370117   \n",
       "3 2001-01-05  4116.339844  4195.009766  4115.350098  4183.729980  4183.729980   \n",
       "4 2001-01-08  4164.759766  4206.720215  4101.529785  4120.430176  4120.430176   \n",
       "\n",
       "   Volume  market  \n",
       "0     0.0     1.0  \n",
       "1     0.0     1.0  \n",
       "2     0.0     0.0  \n",
       "3     0.0     1.0  \n",
       "4     0.0     0.0  "
      ]
     },
     "execution_count": 26,
     "metadata": {},
     "output_type": "execute_result"
    }
   ],
   "source": [
    "sensex.head()"
   ]
  },
  {
   "cell_type": "code",
   "execution_count": 27,
   "metadata": {},
   "outputs": [
    {
     "data": {
      "text/plain": [
       "Date         0\n",
       "Open         0\n",
       "High         0\n",
       "Low          0\n",
       "Close        0\n",
       "Adj Close    0\n",
       "Volume       0\n",
       "market       0\n",
       "dtype: int64"
      ]
     },
     "execution_count": 27,
     "metadata": {},
     "output_type": "execute_result"
    }
   ],
   "source": [
    "sensex.isnull().sum()"
   ]
  },
  {
   "cell_type": "markdown",
   "metadata": {},
   "source": [
    "# performing time series analysis"
   ]
  },
  {
   "cell_type": "code",
   "execution_count": 28,
   "metadata": {},
   "outputs": [],
   "source": [
    "series = sensex['Close']\n",
    "time_steps = np.arange( len(series))\n"
   ]
  },
  {
   "cell_type": "code",
   "execution_count": 30,
   "metadata": {},
   "outputs": [],
   "source": [
    "def plot_series(time, series, start=0, end=None):\n",
    "    plt.plot(time[start:end], series[start:end])\n",
    "    plt.xlabel(\"Time\")\n",
    "    plt.ylabel(\"Value\")\n",
    "    plt.grid(True)"
   ]
  },
  {
   "cell_type": "code",
   "execution_count": 31,
   "metadata": {},
   "outputs": [
    {
     "data": {
      "image/png": "[encoded data removed]",
      "text/plain": [
       "<Figure size 720x432 with 1 Axes>"
      ]
     },
     "metadata": {
      "needs_background": "light"
     },
     "output_type": "display_data"
    }
   ],
   "source": [
    "plt.figure(figsize=(10,6))\n",
    "plot_series(time_steps, series)"
   ]
  },
  {
   "cell_type": "code",
   "execution_count": 33,
   "metadata": {},
   "outputs": [
    {
     "name": "stdout",
     "output_type": "stream",
     "text": [
      "length of series :  4794\n"
     ]
    },
    {
     "data": {
      "image/png": "[encoded data removed]",
      "text/plain": [
       "<Figure size 720x432 with 1 Axes>"
      ]
     },
     "metadata": {
      "needs_background": "light"
     },
     "output_type": "display_data"
    }
   ],
   "source": [
    "series = np.array(series)\n",
    "time = np.array(time_steps)\n",
    "\n",
    "plt.figure(figsize=(10,6))\n",
    "plot_series(time_steps, series)\n",
    "\n",
    "print('length of series : ',len(series))"
   ]
  },
  {
   "cell_type": "markdown",
   "metadata": {},
   "source": [
    "we have 4794 time_stamps. its good to split at 4000. i.e., 4000 for training and 794 for validation"
   ]
  },
  {
   "cell_type": "code",
   "execution_count": 34,
   "metadata": {},
   "outputs": [],
   "source": [
    "split_time = 4000         \n",
    "\n",
    "x_train = series[: split_time]\n",
    "time_train = time[: split_time]\n",
    "x_valid = series[ split_time : ]\n",
    "time_valid = time[ split_time : ]\n",
    "\n",
    "batch_size = 32\n",
    "buffer_size=2000\n",
    "window_size = 22"
   ]
  },
  {
   "cell_type": "code",
   "execution_count": 35,
   "metadata": {},
   "outputs": [],
   "source": [
    "def windowed_dataset(series, window_size, batch_size, buffer_size):\n",
    "    dataset = tf.data.Dataset.from_tensor_slices(series)\n",
    "    dataset = dataset.window(window_size+1, shift=1, drop_remainder=True)\n",
    "    dataset = dataset.flat_map(lambda w: w.batch(window_size+1))\n",
    "    dataset = dataset.shuffle(buffer_size)\n",
    "    dataset = dataset.map(lambda w: (w[:-1], w[-1]))\n",
    "    dataset = dataset.batch(batch_size).prefetch(1)\n",
    "    return dataset\n"
   ]
  },
  {
   "cell_type": "code",
   "execution_count": 36,
   "metadata": {},
   "outputs": [
    {
     "name": "stdout",
     "output_type": "stream",
     "text": [
      " length of data :  4794\n"
     ]
    }
   ],
   "source": [
    "print(' length of data : ',len(series))"
   ]
  },
  {
   "cell_type": "code",
   "execution_count": 39,
   "metadata": {},
   "outputs": [
    {
     "name": "stdout",
     "output_type": "stream",
     "text": [
      "Epoch 1/200\n",
      "63/63 [==============================] - 1s 18ms/step - loss: 3224.2507 - mae: 3224.7507\n",
      "Epoch 2/200\n",
      "63/63 [==============================] - 1s 9ms/step - loss: 377.1487 - mae: 377.6486\n",
      "Epoch 3/200\n",
      "63/63 [==============================] - 1s 8ms/step - loss: 381.4483 - mae: 381.9480\n",
      "Epoch 4/200\n",
      "63/63 [==============================] - 1s 9ms/step - loss: 373.5912 - mae: 374.0908\n",
      "Epoch 5/200\n",
      "63/63 [==============================] - 1s 8ms/step - loss: 377.4752 - mae: 377.9748\n",
      "Epoch 6/200\n",
      "63/63 [==============================] - 1s 10ms/step - loss: 375.9171 - mae: 376.4166\n",
      "Epoch 7/200\n",
      "63/63 [==============================] - 1s 9ms/step - loss: 372.9470 - mae: 373.4466\n",
      "Epoch 8/200\n",
      "63/63 [==============================] - 1s 10ms/step - loss: 370.8673 - mae: 371.3669\n",
      "Epoch 9/200\n",
      "63/63 [==============================] - 1s 10ms/step - loss: 369.8477 - mae: 370.3474\n",
      "Epoch 10/200\n",
      "63/63 [==============================] - 0s 7ms/step - loss: 364.6090 - mae: 365.1088\n",
      "Epoch 11/200\n",
      "63/63 [==============================] - 0s 7ms/step - loss: 355.8124 - mae: 356.3120\n",
      "Epoch 12/200\n",
      "63/63 [==============================] - 1s 9ms/step - loss: 361.7374 - mae: 362.2371\n",
      "Epoch 13/200\n",
      "63/63 [==============================] - 1s 10ms/step - loss: 360.9337 - mae: 361.4334\n",
      "Epoch 14/200\n",
      "63/63 [==============================] - 1s 8ms/step - loss: 350.5178 - mae: 351.0177\n",
      "Epoch 15/200\n",
      "63/63 [==============================] - 1s 10ms/step - loss: 347.1833 - mae: 347.6830\n",
      "Epoch 16/200\n",
      "63/63 [==============================] - 1s 8ms/step - loss: 347.7046 - mae: 348.2038\n",
      "Epoch 17/200\n",
      "63/63 [==============================] - 1s 8ms/step - loss: 335.1133 - mae: 335.6129\n",
      "Epoch 18/200\n",
      "63/63 [==============================] - 1s 9ms/step - loss: 336.4357 - mae: 336.9354\n",
      "Epoch 19/200\n",
      "63/63 [==============================] - 1s 9ms/step - loss: 344.3736 - mae: 344.8729\n",
      "Epoch 20/200\n",
      "63/63 [==============================] - 1s 9ms/step - loss: 336.4485 - mae: 336.9482\n",
      "Epoch 21/200\n",
      "63/63 [==============================] - 1s 9ms/step - loss: 346.2061 - mae: 346.7058\n",
      "Epoch 22/200\n",
      "63/63 [==============================] - 1s 8ms/step - loss: 330.3446 - mae: 330.8442\n",
      "Epoch 23/200\n",
      "63/63 [==============================] - 1s 9ms/step - loss: 329.8005 - mae: 330.2996\n",
      "Epoch 24/200\n",
      "63/63 [==============================] - 1s 8ms/step - loss: 330.5579 - mae: 331.0573\n",
      "Epoch 25/200\n",
      "63/63 [==============================] - 1s 8ms/step - loss: 325.6490 - mae: 326.1485\n",
      "Epoch 26/200\n",
      "63/63 [==============================] - 1s 8ms/step - loss: 325.5508 - mae: 326.0501\n",
      "Epoch 27/200\n",
      "63/63 [==============================] - 1s 9ms/step - loss: 326.5563 - mae: 327.0560\n",
      "Epoch 28/200\n",
      "63/63 [==============================] - 1s 9ms/step - loss: 318.8393 - mae: 319.3391\n",
      "Epoch 29/200\n",
      "63/63 [==============================] - 1s 13ms/step - loss: 314.6191 - mae: 315.1187\n",
      "Epoch 30/200\n",
      "63/63 [==============================] - 1s 9ms/step - loss: 319.2112 - mae: 319.7109\n",
      "Epoch 31/200\n",
      "63/63 [==============================] - 1s 9ms/step - loss: 316.4666 - mae: 316.9662\n",
      "Epoch 32/200\n",
      "63/63 [==============================] - 1s 8ms/step - loss: 310.7052 - mae: 311.2048\n",
      "Epoch 33/200\n",
      "63/63 [==============================] - 0s 7ms/step - loss: 305.5354 - mae: 306.0349\n",
      "Epoch 34/200\n",
      "63/63 [==============================] - 1s 10ms/step - loss: 314.5653 - mae: 315.0649\n",
      "Epoch 35/200\n",
      "63/63 [==============================] - 1s 9ms/step - loss: 309.7043 - mae: 310.2037\n",
      "Epoch 36/200\n",
      "63/63 [==============================] - 1s 11ms/step - loss: 302.8721 - mae: 303.3713\n",
      "Epoch 37/200\n",
      "63/63 [==============================] - 1s 10ms/step - loss: 312.1991 - mae: 312.6984\n",
      "Epoch 38/200\n",
      "63/63 [==============================] - 1s 12ms/step - loss: 303.1031 - mae: 303.6028\n",
      "Epoch 39/200\n",
      "63/63 [==============================] - 1s 10ms/step - loss: 293.8451 - mae: 294.3446\n",
      "Epoch 40/200\n",
      "63/63 [==============================] - 0s 7ms/step - loss: 290.7990 - mae: 291.2987\n",
      "Epoch 41/200\n",
      "63/63 [==============================] - 0s 7ms/step - loss: 294.6284 - mae: 295.1276\n",
      "Epoch 42/200\n",
      "63/63 [==============================] - 1s 8ms/step - loss: 300.5714 - mae: 301.0707\n",
      "Epoch 43/200\n",
      "63/63 [==============================] - 1s 9ms/step - loss: 284.1785 - mae: 284.6781\n",
      "Epoch 44/200\n",
      "63/63 [==============================] - 1s 9ms/step - loss: 288.9714 - mae: 289.4708\n",
      "Epoch 45/200\n",
      "63/63 [==============================] - 1s 9ms/step - loss: 290.3197 - mae: 290.8189\n",
      "Epoch 46/200\n",
      "63/63 [==============================] - 1s 9ms/step - loss: 301.7820 - mae: 302.2816\n",
      "Epoch 47/200\n",
      "63/63 [==============================] - 1s 9ms/step - loss: 287.6734 - mae: 288.1730A: 0s - loss: 239.0250 - mae: 2\n",
      "Epoch 48/200\n",
      "63/63 [==============================] - 1s 10ms/step - loss: 286.5006 - mae: 287.0002\n",
      "Epoch 49/200\n",
      "63/63 [==============================] - 1s 11ms/step - loss: 286.4013 - mae: 286.9008\n",
      "Epoch 50/200\n",
      "63/63 [==============================] - 1s 9ms/step - loss: 272.2266 - mae: 272.7259\n",
      "Epoch 51/200\n",
      "63/63 [==============================] - 1s 9ms/step - loss: 278.4391 - mae: 278.9382\n",
      "Epoch 52/200\n",
      "63/63 [==============================] - 0s 8ms/step - loss: 272.0670 - mae: 272.5664\n",
      "Epoch 53/200\n",
      "63/63 [==============================] - 0s 7ms/step - loss: 271.6642 - mae: 272.1635\n",
      "Epoch 54/200\n",
      "63/63 [==============================] - 0s 8ms/step - loss: 276.2347 - mae: 276.7341\n",
      "Epoch 55/200\n",
      "63/63 [==============================] - 0s 8ms/step - loss: 282.2831 - mae: 282.7825\n",
      "Epoch 56/200\n",
      "63/63 [==============================] - 1s 10ms/step - loss: 269.3434 - mae: 269.8430\n",
      "Epoch 57/200\n",
      "63/63 [==============================] - 1s 8ms/step - loss: 282.4672 - mae: 282.9668\n",
      "Epoch 58/200\n",
      "63/63 [==============================] - 1s 9ms/step - loss: 260.9858 - mae: 261.4855\n",
      "Epoch 59/200\n",
      "63/63 [==============================] - 0s 8ms/step - loss: 266.7406 - mae: 267.2403\n",
      "Epoch 60/200\n",
      "63/63 [==============================] - 0s 8ms/step - loss: 292.7153 - mae: 293.2146\n",
      "Epoch 61/200\n",
      "63/63 [==============================] - 0s 7ms/step - loss: 269.8092 - mae: 270.3087\n",
      "Epoch 62/200\n",
      "63/63 [==============================] - 1s 8ms/step - loss: 275.2437 - mae: 275.7433\n",
      "Epoch 63/200\n",
      "63/63 [==============================] - 0s 8ms/step - loss: 257.0374 - mae: 257.5366\n",
      "Epoch 64/200\n",
      "63/63 [==============================] - 1s 8ms/step - loss: 256.2310 - mae: 256.7300\n",
      "Epoch 65/200\n",
      "63/63 [==============================] - 0s 8ms/step - loss: 254.3484 - mae: 254.8476\n",
      "Epoch 66/200\n",
      "63/63 [==============================] - 1s 10ms/step - loss: 251.6926 - mae: 252.1918\n",
      "Epoch 67/200\n",
      "63/63 [==============================] - 0s 8ms/step - loss: 246.1463 - mae: 246.6456\n",
      "Epoch 68/200\n",
      "63/63 [==============================] - 0s 8ms/step - loss: 244.0185 - mae: 244.5176A: 0s - loss: 215.2940 - mae: 215.\n",
      "Epoch 69/200\n",
      "63/63 [==============================] - 1s 10ms/step - loss: 250.4303 - mae: 250.9297\n",
      "Epoch 70/200\n",
      "63/63 [==============================] - 1s 9ms/step - loss: 250.3976 - mae: 250.8972\n",
      "Epoch 71/200\n",
      "63/63 [==============================] - 1s 9ms/step - loss: 249.7952 - mae: 250.2947\n",
      "Epoch 72/200\n",
      "63/63 [==============================] - 1s 8ms/step - loss: 239.1295 - mae: 239.6291\n",
      "Epoch 73/200\n",
      "63/63 [==============================] - 1s 10ms/step - loss: 253.7887 - mae: 254.2883: 0s - loss: 231.4094 - mae: 231.\n",
      "Epoch 74/200\n",
      "63/63 [==============================] - 1s 9ms/step - loss: 243.2251 - mae: 243.7245\n",
      "Epoch 75/200\n",
      "63/63 [==============================] - 1s 8ms/step - loss: 246.4639 - mae: 246.9629\n",
      "Epoch 76/200\n",
      "63/63 [==============================] - 1s 9ms/step - loss: 237.3908 - mae: 237.8904A: 0s - loss: 213.9733 - mae: 2\n",
      "Epoch 77/200\n",
      "63/63 [==============================] - 1s 9ms/step - loss: 252.6834 - mae: 253.1829\n",
      "Epoch 78/200\n",
      "63/63 [==============================] - 1s 8ms/step - loss: 236.3659 - mae: 236.8649\n",
      "Epoch 79/200\n",
      "63/63 [==============================] - 1s 8ms/step - loss: 245.4047 - mae: 245.9043\n",
      "Epoch 80/200\n",
      "63/63 [==============================] - 1s 9ms/step - loss: 232.9500 - mae: 233.4492\n",
      "Epoch 81/200\n",
      "63/63 [==============================] - 1s 9ms/step - loss: 235.9625 - mae: 236.4620\n",
      "Epoch 82/200\n",
      "63/63 [==============================] - 1s 8ms/step - loss: 233.9884 - mae: 234.4877\n",
      "Epoch 83/200\n",
      "63/63 [==============================] - 1s 8ms/step - loss: 238.2044 - mae: 238.7031\n",
      "Epoch 84/200\n",
      "63/63 [==============================] - 1s 9ms/step - loss: 249.8495 - mae: 250.3487\n",
      "Epoch 85/200\n",
      "63/63 [==============================] - 1s 8ms/step - loss: 240.1797 - mae: 240.6784\n",
      "Epoch 86/200\n",
      "63/63 [==============================] - 0s 8ms/step - loss: 236.1122 - mae: 236.6115\n",
      "Epoch 87/200\n",
      "63/63 [==============================] - 1s 8ms/step - loss: 226.6920 - mae: 227.1915\n",
      "Epoch 88/200\n",
      "63/63 [==============================] - 0s 8ms/step - loss: 227.9257 - mae: 228.4246\n",
      "Epoch 89/200\n",
      "63/63 [==============================] - 1s 9ms/step - loss: 224.0305 - mae: 224.5296\n",
      "Epoch 90/200\n",
      "63/63 [==============================] - 1s 9ms/step - loss: 227.9182 - mae: 228.4177\n",
      "Epoch 91/200\n",
      "63/63 [==============================] - 1s 12ms/step - loss: 232.4214 - mae: 232.9209\n",
      "Epoch 92/200\n",
      "63/63 [==============================] - 1s 9ms/step - loss: 235.5746 - mae: 236.0740\n",
      "Epoch 93/200\n",
      "63/63 [==============================] - 1s 10ms/step - loss: 237.2643 - mae: 237.7634: 0s - loss: 217.5099 - mae: 2\n",
      "Epoch 94/200\n",
      "63/63 [==============================] - 1s 8ms/step - loss: 227.2563 - mae: 227.7554A: 0s - loss: 195.6725 - mae: 1\n",
      "Epoch 95/200\n",
      "63/63 [==============================] - 1s 8ms/step - loss: 224.1503 - mae: 224.6491\n",
      "Epoch 96/200\n",
      "63/63 [==============================] - 1s 8ms/step - loss: 220.7854 - mae: 221.2844\n",
      "Epoch 97/200\n",
      "63/63 [==============================] - 1s 8ms/step - loss: 215.8998 - mae: 216.3993\n",
      "Epoch 98/200\n",
      "63/63 [==============================] - 1s 8ms/step - loss: 239.7558 - mae: 240.2549\n",
      "Epoch 99/200\n",
      "63/63 [==============================] - 1s 8ms/step - loss: 218.3407 - mae: 218.8395\n",
      "Epoch 100/200\n",
      "63/63 [==============================] - 1s 10ms/step - loss: 231.1068 - mae: 231.6064\n",
      "Epoch 101/200\n",
      "63/63 [==============================] - 1s 8ms/step - loss: 225.0711 - mae: 225.5702\n",
      "Epoch 102/200\n",
      "63/63 [==============================] - 1s 8ms/step - loss: 227.0882 - mae: 227.5872\n",
      "Epoch 103/200\n",
      "63/63 [==============================] - 0s 8ms/step - loss: 217.9606 - mae: 218.4600\n",
      "Epoch 104/200\n",
      "63/63 [==============================] - 0s 7ms/step - loss: 216.0473 - mae: 216.5462\n",
      "Epoch 105/200\n",
      "63/63 [==============================] - 1s 9ms/step - loss: 221.5738 - mae: 222.0734\n",
      "Epoch 106/200\n",
      "63/63 [==============================] - 1s 8ms/step - loss: 225.7604 - mae: 226.2592\n",
      "Epoch 107/200\n",
      "63/63 [==============================] - 0s 8ms/step - loss: 220.6430 - mae: 221.1418\n",
      "Epoch 108/200\n",
      "63/63 [==============================] - 1s 8ms/step - loss: 243.0085 - mae: 243.5077\n",
      "Epoch 109/200\n",
      "63/63 [==============================] - 0s 8ms/step - loss: 209.8406 - mae: 210.3398\n",
      "Epoch 110/200\n",
      "63/63 [==============================] - 0s 8ms/step - loss: 240.1275 - mae: 240.6269\n",
      "Epoch 111/200\n",
      "63/63 [==============================] - 0s 8ms/step - loss: 218.0924 - mae: 218.5920\n",
      "Epoch 112/200\n",
      "63/63 [==============================] - 1s 10ms/step - loss: 210.8672 - mae: 211.3667\n",
      "Epoch 113/200\n",
      "63/63 [==============================] - 0s 8ms/step - loss: 239.0938 - mae: 239.5931\n",
      "Epoch 114/200\n",
      "63/63 [==============================] - 0s 8ms/step - loss: 219.9210 - mae: 220.4201\n",
      "Epoch 115/200\n",
      "63/63 [==============================] - 1s 9ms/step - loss: 217.3664 - mae: 217.8654\n",
      "Epoch 116/200\n",
      "63/63 [==============================] - 1s 8ms/step - loss: 215.3708 - mae: 215.8697\n",
      "Epoch 117/200\n",
      "63/63 [==============================] - 0s 8ms/step - loss: 234.7318 - mae: 235.2311\n",
      "Epoch 118/200\n",
      "63/63 [==============================] - 1s 8ms/step - loss: 218.7461 - mae: 219.2455\n",
      "Epoch 119/200\n",
      "63/63 [==============================] - 1s 8ms/step - loss: 229.1635 - mae: 229.6626\n",
      "Epoch 120/200\n",
      "63/63 [==============================] - 1s 8ms/step - loss: 216.4555 - mae: 216.9548\n",
      "Epoch 121/200\n",
      "63/63 [==============================] - 0s 8ms/step - loss: 222.5644 - mae: 223.0632\n",
      "Epoch 122/200\n",
      "63/63 [==============================] - 1s 9ms/step - loss: 202.8630 - mae: 203.3623\n",
      "Epoch 123/200\n",
      "63/63 [==============================] - 1s 8ms/step - loss: 223.2696 - mae: 223.7691\n",
      "Epoch 124/200\n",
      "63/63 [==============================] - 0s 8ms/step - loss: 203.8975 - mae: 204.3969\n",
      "Epoch 125/200\n",
      "63/63 [==============================] - 0s 8ms/step - loss: 205.1996 - mae: 205.6987\n",
      "Epoch 126/200\n",
      "63/63 [==============================] - 0s 8ms/step - loss: 207.5408 - mae: 208.0402\n",
      "Epoch 127/200\n",
      "63/63 [==============================] - 1s 10ms/step - loss: 204.5210 - mae: 205.0200\n",
      "Epoch 128/200\n",
      "63/63 [==============================] - 1s 8ms/step - loss: 202.6891 - mae: 203.1882\n",
      "Epoch 129/200\n",
      "63/63 [==============================] - 0s 8ms/step - loss: 211.1964 - mae: 211.6957\n",
      "Epoch 130/200\n",
      "63/63 [==============================] - 1s 8ms/step - loss: 202.8195 - mae: 203.3185\n",
      "Epoch 131/200\n",
      "63/63 [==============================] - 1s 8ms/step - loss: 210.6447 - mae: 211.1438\n",
      "Epoch 132/200\n",
      "63/63 [==============================] - 0s 8ms/step - loss: 201.1696 - mae: 201.6687\n",
      "Epoch 133/200\n",
      "63/63 [==============================] - 0s 8ms/step - loss: 200.5812 - mae: 201.0805\n",
      "Epoch 134/200\n",
      "63/63 [==============================] - 1s 10ms/step - loss: 195.4574 - mae: 195.9564\n",
      "Epoch 135/200\n",
      "63/63 [==============================] - 0s 8ms/step - loss: 200.4191 - mae: 200.9181\n",
      "Epoch 136/200\n",
      "63/63 [==============================] - 1s 8ms/step - loss: 205.8180 - mae: 206.3172\n",
      "Epoch 137/200\n",
      "63/63 [==============================] - 0s 8ms/step - loss: 195.1592 - mae: 195.6583\n",
      "Epoch 138/200\n",
      "63/63 [==============================] - 1s 8ms/step - loss: 200.8949 - mae: 201.3943\n",
      "Epoch 139/200\n",
      "63/63 [==============================] - 1s 8ms/step - loss: 219.4509 - mae: 219.9498\n",
      "Epoch 140/200\n",
      "63/63 [==============================] - 0s 7ms/step - loss: 214.2136 - mae: 214.7131\n",
      "Epoch 141/200\n",
      "63/63 [==============================] - 1s 8ms/step - loss: 198.0829 - mae: 198.5820\n",
      "Epoch 142/200\n",
      "63/63 [==============================] - 1s 8ms/step - loss: 211.7283 - mae: 212.2276\n",
      "Epoch 143/200\n",
      "63/63 [==============================] - 0s 7ms/step - loss: 202.2708 - mae: 202.7697\n",
      "Epoch 144/200\n",
      "63/63 [==============================] - 1s 9ms/step - loss: 208.0260 - mae: 208.5251\n",
      "Epoch 145/200\n",
      "63/63 [==============================] - 0s 8ms/step - loss: 188.7948 - mae: 189.2938\n",
      "Epoch 146/200\n",
      "63/63 [==============================] - 0s 8ms/step - loss: 193.0805 - mae: 193.5795\n",
      "Epoch 147/200\n",
      "63/63 [==============================] - 0s 8ms/step - loss: 193.3956 - mae: 193.8943\n",
      "Epoch 148/200\n",
      "63/63 [==============================] - 0s 8ms/step - loss: 190.5513 - mae: 191.0507\n",
      "Epoch 149/200\n",
      "63/63 [==============================] - 1s 11ms/step - loss: 207.8211 - mae: 208.3202\n",
      "Epoch 150/200\n",
      "63/63 [==============================] - 1s 9ms/step - loss: 193.0388 - mae: 193.5379\n",
      "Epoch 151/200\n",
      "63/63 [==============================] - 1s 9ms/step - loss: 203.5118 - mae: 204.0110\n",
      "Epoch 152/200\n",
      "63/63 [==============================] - 1s 8ms/step - loss: 189.4129 - mae: 189.9118\n",
      "Epoch 153/200\n",
      "63/63 [==============================] - 1s 8ms/step - loss: 189.0533 - mae: 189.5521\n",
      "Epoch 154/200\n",
      "63/63 [==============================] - 1s 8ms/step - loss: 195.3603 - mae: 195.8593\n",
      "Epoch 155/200\n",
      "63/63 [==============================] - 1s 10ms/step - loss: 193.3166 - mae: 193.8161\n",
      "Epoch 156/200\n",
      "63/63 [==============================] - 1s 11ms/step - loss: 186.3275 - mae: 186.8264\n",
      "Epoch 157/200\n",
      "63/63 [==============================] - 1s 10ms/step - loss: 194.3856 - mae: 194.8851\n",
      "Epoch 158/200\n",
      "63/63 [==============================] - 1s 10ms/step - loss: 203.7083 - mae: 204.2072\n",
      "Epoch 159/200\n",
      "63/63 [==============================] - 1s 10ms/step - loss: 189.4828 - mae: 189.9820\n",
      "Epoch 160/200\n",
      "63/63 [==============================] - 1s 8ms/step - loss: 204.4519 - mae: 204.9510\n",
      "Epoch 161/200\n",
      "63/63 [==============================] - 1s 12ms/step - loss: 186.0196 - mae: 186.5187\n",
      "Epoch 162/200\n",
      "63/63 [==============================] - 1s 11ms/step - loss: 193.4841 - mae: 193.9834\n",
      "Epoch 163/200\n"
     ]
    },
    {
     "name": "stdout",
     "output_type": "stream",
     "text": [
      "63/63 [==============================] - 1s 11ms/step - loss: 192.1955 - mae: 192.6946\n",
      "Epoch 164/200\n",
      "63/63 [==============================] - 1s 9ms/step - loss: 190.2167 - mae: 190.7156\n",
      "Epoch 165/200\n",
      "63/63 [==============================] - 1s 11ms/step - loss: 203.4741 - mae: 203.9731\n",
      "Epoch 166/200\n",
      "63/63 [==============================] - 1s 8ms/step - loss: 183.0788 - mae: 183.5780\n",
      "Epoch 167/200\n",
      "63/63 [==============================] - 1s 11ms/step - loss: 183.7970 - mae: 184.2962\n",
      "Epoch 168/200\n",
      "63/63 [==============================] - 1s 12ms/step - loss: 183.2281 - mae: 183.7274\n",
      "Epoch 169/200\n",
      "63/63 [==============================] - 1s 9ms/step - loss: 190.1507 - mae: 190.6493\n",
      "Epoch 170/200\n",
      "63/63 [==============================] - 1s 9ms/step - loss: 196.1030 - mae: 196.6023\n",
      "Epoch 171/200\n",
      "63/63 [==============================] - 1s 10ms/step - loss: 189.4566 - mae: 189.9556\n",
      "Epoch 172/200\n",
      "63/63 [==============================] - 1s 10ms/step - loss: 196.2590 - mae: 196.7581: 0s - loss: 166.0592 - mae: 166\n",
      "Epoch 173/200\n",
      "63/63 [==============================] - 1s 11ms/step - loss: 185.8361 - mae: 186.3357: 0s - loss: 184.5252 - mae: 185.02\n",
      "Epoch 174/200\n",
      "63/63 [==============================] - 1s 10ms/step - loss: 192.3449 - mae: 192.8438\n",
      "Epoch 175/200\n",
      "63/63 [==============================] - 1s 9ms/step - loss: 198.3493 - mae: 198.8486\n",
      "Epoch 176/200\n",
      "63/63 [==============================] - 1s 9ms/step - loss: 187.1230 - mae: 187.6219\n",
      "Epoch 177/200\n",
      "63/63 [==============================] - 1s 10ms/step - loss: 198.1380 - mae: 198.6372\n",
      "Epoch 178/200\n",
      "63/63 [==============================] - 1s 10ms/step - loss: 187.4161 - mae: 187.9151\n",
      "Epoch 179/200\n",
      "63/63 [==============================] - 1s 10ms/step - loss: 196.7021 - mae: 197.2013\n",
      "Epoch 180/200\n",
      "63/63 [==============================] - 1s 11ms/step - loss: 187.3256 - mae: 187.8248\n",
      "Epoch 181/200\n",
      "63/63 [==============================] - 1s 9ms/step - loss: 181.0824 - mae: 181.5815\n",
      "Epoch 182/200\n",
      "63/63 [==============================] - 1s 9ms/step - loss: 195.9983 - mae: 196.4970A: 0s - loss: 196.7988 - mae: \n",
      "Epoch 183/200\n",
      "63/63 [==============================] - 0s 8ms/step - loss: 186.4608 - mae: 186.9598\n",
      "Epoch 184/200\n",
      "63/63 [==============================] - 0s 8ms/step - loss: 201.8978 - mae: 202.3965\n",
      "Epoch 185/200\n",
      "63/63 [==============================] - 1s 9ms/step - loss: 189.0398 - mae: 189.5390A: 0s - loss: 150.2150 - mae: 1\n",
      "Epoch 186/200\n",
      "63/63 [==============================] - 1s 10ms/step - loss: 196.3922 - mae: 196.8914\n",
      "Epoch 187/200\n",
      "63/63 [==============================] - 1s 10ms/step - loss: 218.5520 - mae: 219.0514\n",
      "Epoch 188/200\n",
      "63/63 [==============================] - 0s 8ms/step - loss: 195.8577 - mae: 196.3570\n",
      "Epoch 189/200\n",
      "63/63 [==============================] - 1s 9ms/step - loss: 205.3592 - mae: 205.8580\n",
      "Epoch 190/200\n",
      "63/63 [==============================] - 1s 9ms/step - loss: 181.6147 - mae: 182.1138\n",
      "Epoch 191/200\n",
      "63/63 [==============================] - 1s 9ms/step - loss: 186.6800 - mae: 187.1793\n",
      "Epoch 192/200\n",
      "63/63 [==============================] - 1s 9ms/step - loss: 187.0123 - mae: 187.5108\n",
      "Epoch 193/200\n",
      "63/63 [==============================] - 0s 8ms/step - loss: 180.8692 - mae: 181.3678\n",
      "Epoch 194/200\n",
      "63/63 [==============================] - 0s 7ms/step - loss: 208.2061 - mae: 208.7050\n",
      "Epoch 195/200\n",
      "63/63 [==============================] - 0s 8ms/step - loss: 184.5856 - mae: 185.0843\n",
      "Epoch 196/200\n",
      "63/63 [==============================] - 1s 11ms/step - loss: 176.7173 - mae: 177.2162\n",
      "Epoch 197/200\n",
      "63/63 [==============================] - 0s 8ms/step - loss: 177.0926 - mae: 177.5918\n",
      "Epoch 198/200\n",
      "63/63 [==============================] - 0s 8ms/step - loss: 188.5848 - mae: 189.0840\n",
      "Epoch 199/200\n",
      "63/63 [==============================] - 1s 8ms/step - loss: 178.0224 - mae: 178.5211A: 0s - loss: 157.4156 - mae: 157\n",
      "Epoch 200/200\n",
      "63/63 [==============================] - 1s 9ms/step - loss: 179.2675 - mae: 179.7666\n"
     ]
    }
   ],
   "source": [
    "train_set = windowed_dataset(x_train, window_size, batch_size=64, buffer_size=buffer_size)\n",
    "\n",
    "model = tf.keras.Sequential([tf.keras.layers.Dense(20, input_shape=[window_size],  activation='relu'),\n",
    "                             tf.keras.layers.Dense(10, activation='relu'),\n",
    "                             tf.keras.layers.Dense(1)\n",
    "                             ])\n",
    "\n",
    "\n",
    "model.compile(loss = tf.keras.losses.Huber(),\n",
    "              optimizer = tf.keras.optimizers.SGD(lr = 1e-7, momentum= 0.9),\n",
    "              metrics = ['mae'])\n",
    "\n",
    "history = model.fit(train_set, epochs= 200)"
   ]
  },
  {
   "cell_type": "code",
   "execution_count": 40,
   "metadata": {},
   "outputs": [
    {
     "data": {
      "image/png": "[encoded data removed]",
      "text/plain": [
       "<Figure size 1080x432 with 1 Axes>"
      ]
     },
     "metadata": {
      "needs_background": "light"
     },
     "output_type": "display_data"
    }
   ],
   "source": [
    "predictions = []\n",
    "\n",
    "for time in range(len(series)-window_size):\n",
    "    predictions.append( model.predict(series[time: time+window_size][np.newaxis]))\n",
    "\n",
    "predictions_valid = predictions[split_time - window_size : ]\n",
    "predictions_valid = np.array(predictions_valid)[: , 0,0]\n",
    "\n",
    "plot_series(time_valid, x_valid)\n",
    "plot_series(time_valid, predictions_valid)"
   ]
  },
  {
   "cell_type": "markdown",
   "metadata": {},
   "source": [
    "**Zoomed predictions**"
   ]
  },
  {
   "cell_type": "code",
   "execution_count": 45,
   "metadata": {},
   "outputs": [
    {
     "data": {
      "image/png": "[encoded data removed]",
      "text/plain": [
       "<Figure size 1080x432 with 1 Axes>"
      ]
     },
     "metadata": {
      "needs_background": "light"
     },
     "output_type": "display_data"
    }
   ],
   "source": [
    "pred = np.array(predictions)[: , 0,0]\n",
    "\n",
    "plot_series(time[1000:1100], series[1000:1100])\n",
    "plot_series(time[1000:1100], pred[1000:1100])"
   ]
  },
  {
   "cell_type": "code",
   "execution_count": null,
   "metadata": {},
   "outputs": [],
   "source": []
  },
  {
   "cell_type": "markdown",
   "metadata": {},
   "source": [
    "# Merging 'news' and 'sensex' dataset\n",
    "on 'Date' column"
   ]
  },
  {
   "cell_type": "code",
   "execution_count": 38,
   "metadata": {},
   "outputs": [],
   "source": [
    "df = pd.merge(news, sensex, on='Date')"
   ]
  },
  {
   "cell_type": "code",
   "execution_count": 39,
   "metadata": {},
   "outputs": [
    {
     "data": {
      "text/html": [
       "<div>\n",
       "<style scoped>\n",
       "    .dataframe tbody tr th:only-of-type {\n",
       "        vertical-align: middle;\n",
       "    }\n",
       "\n",
       "    .dataframe tbody tr th {\n",
       "        vertical-align: top;\n",
       "    }\n",
       "\n",
       "    .dataframe thead th {\n",
       "        text-align: right;\n",
       "    }\n",
       "</style>\n",
       "<table border=\"1\" class=\"dataframe\">\n",
       "  <thead>\n",
       "    <tr style=\"text-align: right;\">\n",
       "      <th></th>\n",
       "      <th>Date</th>\n",
       "      <th>headline_category</th>\n",
       "      <th>headline_text</th>\n",
       "      <th>year</th>\n",
       "      <th>month</th>\n",
       "      <th>day</th>\n",
       "      <th>positive</th>\n",
       "      <th>negative</th>\n",
       "      <th>neutral</th>\n",
       "      <th>compound</th>\n",
       "      <th>sentiment</th>\n",
       "      <th>Open</th>\n",
       "      <th>High</th>\n",
       "      <th>Low</th>\n",
       "      <th>Close</th>\n",
       "      <th>Adj Close</th>\n",
       "      <th>Volume</th>\n",
       "      <th>market</th>\n",
       "    </tr>\n",
       "  </thead>\n",
       "  <tbody>\n",
       "    <tr>\n",
       "      <th>0</th>\n",
       "      <td>2001-01-02</td>\n",
       "      <td>unknown</td>\n",
       "      <td>Status quo will not be disturbed at Ayodhya; s...</td>\n",
       "      <td>2001</td>\n",
       "      <td>1</td>\n",
       "      <td>2</td>\n",
       "      <td>0.195</td>\n",
       "      <td>0.000</td>\n",
       "      <td>0.805</td>\n",
       "      <td>0.2924</td>\n",
       "      <td>1.0</td>\n",
       "      <td>3953.219971</td>\n",
       "      <td>4028.570068</td>\n",
       "      <td>3929.370117</td>\n",
       "      <td>4018.879883</td>\n",
       "      <td>4018.879883</td>\n",
       "      <td>0.0</td>\n",
       "      <td>1.0</td>\n",
       "    </tr>\n",
       "    <tr>\n",
       "      <th>1</th>\n",
       "      <td>2001-01-02</td>\n",
       "      <td>unknown</td>\n",
       "      <td>Fissures in Hurriyat over Pak visit</td>\n",
       "      <td>2001</td>\n",
       "      <td>1</td>\n",
       "      <td>2</td>\n",
       "      <td>0.000</td>\n",
       "      <td>0.000</td>\n",
       "      <td>1.000</td>\n",
       "      <td>0.0000</td>\n",
       "      <td>0.0</td>\n",
       "      <td>3953.219971</td>\n",
       "      <td>4028.570068</td>\n",
       "      <td>3929.370117</td>\n",
       "      <td>4018.879883</td>\n",
       "      <td>4018.879883</td>\n",
       "      <td>0.0</td>\n",
       "      <td>1.0</td>\n",
       "    </tr>\n",
       "    <tr>\n",
       "      <th>2</th>\n",
       "      <td>2001-01-02</td>\n",
       "      <td>unknown</td>\n",
       "      <td>America's unwanted heading for India?</td>\n",
       "      <td>2001</td>\n",
       "      <td>1</td>\n",
       "      <td>2</td>\n",
       "      <td>0.000</td>\n",
       "      <td>0.322</td>\n",
       "      <td>0.678</td>\n",
       "      <td>-0.2263</td>\n",
       "      <td>-1.0</td>\n",
       "      <td>3953.219971</td>\n",
       "      <td>4028.570068</td>\n",
       "      <td>3929.370117</td>\n",
       "      <td>4018.879883</td>\n",
       "      <td>4018.879883</td>\n",
       "      <td>0.0</td>\n",
       "      <td>1.0</td>\n",
       "    </tr>\n",
       "    <tr>\n",
       "      <th>3</th>\n",
       "      <td>2001-01-02</td>\n",
       "      <td>unknown</td>\n",
       "      <td>For bigwigs; it is destination Goa</td>\n",
       "      <td>2001</td>\n",
       "      <td>1</td>\n",
       "      <td>2</td>\n",
       "      <td>0.000</td>\n",
       "      <td>0.000</td>\n",
       "      <td>1.000</td>\n",
       "      <td>0.0000</td>\n",
       "      <td>0.0</td>\n",
       "      <td>3953.219971</td>\n",
       "      <td>4028.570068</td>\n",
       "      <td>3929.370117</td>\n",
       "      <td>4018.879883</td>\n",
       "      <td>4018.879883</td>\n",
       "      <td>0.0</td>\n",
       "      <td>1.0</td>\n",
       "    </tr>\n",
       "    <tr>\n",
       "      <th>4</th>\n",
       "      <td>2001-01-02</td>\n",
       "      <td>unknown</td>\n",
       "      <td>Extra buses to clear tourist traffic</td>\n",
       "      <td>2001</td>\n",
       "      <td>1</td>\n",
       "      <td>2</td>\n",
       "      <td>0.342</td>\n",
       "      <td>0.000</td>\n",
       "      <td>0.658</td>\n",
       "      <td>0.3818</td>\n",
       "      <td>1.0</td>\n",
       "      <td>3953.219971</td>\n",
       "      <td>4028.570068</td>\n",
       "      <td>3929.370117</td>\n",
       "      <td>4018.879883</td>\n",
       "      <td>4018.879883</td>\n",
       "      <td>0.0</td>\n",
       "      <td>1.0</td>\n",
       "    </tr>\n",
       "  </tbody>\n",
       "</table>\n",
       "</div>"
      ],
      "text/plain": [
       "        Date headline_category  \\\n",
       "0 2001-01-02           unknown   \n",
       "1 2001-01-02           unknown   \n",
       "2 2001-01-02           unknown   \n",
       "3 2001-01-02           unknown   \n",
       "4 2001-01-02           unknown   \n",
       "\n",
       "                                       headline_text  year  month  day  \\\n",
       "0  Status quo will not be disturbed at Ayodhya; s...  2001      1    2   \n",
       "1                Fissures in Hurriyat over Pak visit  2001      1    2   \n",
       "2              America's unwanted heading for India?  2001      1    2   \n",
       "3                 For bigwigs; it is destination Goa  2001      1    2   \n",
       "4               Extra buses to clear tourist traffic  2001      1    2   \n",
       "\n",
       "   positive  negative  neutral  compound  sentiment         Open         High  \\\n",
       "0     0.195     0.000    0.805    0.2924        1.0  3953.219971  4028.570068   \n",
       "1     0.000     0.000    1.000    0.0000        0.0  3953.219971  4028.570068   \n",
       "2     0.000     0.322    0.678   -0.2263       -1.0  3953.219971  4028.570068   \n",
       "3     0.000     0.000    1.000    0.0000        0.0  3953.219971  4028.570068   \n",
       "4     0.342     0.000    0.658    0.3818        1.0  3953.219971  4028.570068   \n",
       "\n",
       "           Low        Close    Adj Close  Volume  market  \n",
       "0  3929.370117  4018.879883  4018.879883     0.0     1.0  \n",
       "1  3929.370117  4018.879883  4018.879883     0.0     1.0  \n",
       "2  3929.370117  4018.879883  4018.879883     0.0     1.0  \n",
       "3  3929.370117  4018.879883  4018.879883     0.0     1.0  \n",
       "4  3929.370117  4018.879883  4018.879883     0.0     1.0  "
      ]
     },
     "execution_count": 39,
     "metadata": {},
     "output_type": "execute_result"
    }
   ],
   "source": [
    "df.head()"
   ]
  },
  {
   "cell_type": "markdown",
   "metadata": {},
   "source": [
    "# Shuffle Dataset"
   ]
  },
  {
   "cell_type": "code",
   "execution_count": 42,
   "metadata": {},
   "outputs": [],
   "source": [
    "df = df.sample(frac=1)"
   ]
  },
  {
   "cell_type": "code",
   "execution_count": 43,
   "metadata": {},
   "outputs": [
    {
     "data": {
      "text/html": [
       "<div>\n",
       "<style scoped>\n",
       "    .dataframe tbody tr th:only-of-type {\n",
       "        vertical-align: middle;\n",
       "    }\n",
       "\n",
       "    .dataframe tbody tr th {\n",
       "        vertical-align: top;\n",
       "    }\n",
       "\n",
       "    .dataframe thead th {\n",
       "        text-align: right;\n",
       "    }\n",
       "</style>\n",
       "<table border=\"1\" class=\"dataframe\">\n",
       "  <thead>\n",
       "    <tr style=\"text-align: right;\">\n",
       "      <th></th>\n",
       "      <th>Date</th>\n",
       "      <th>headline_category</th>\n",
       "      <th>headline_text</th>\n",
       "      <th>year</th>\n",
       "      <th>month</th>\n",
       "      <th>day</th>\n",
       "      <th>positive</th>\n",
       "      <th>negative</th>\n",
       "      <th>neutral</th>\n",
       "      <th>compound</th>\n",
       "      <th>sentiment</th>\n",
       "      <th>Open</th>\n",
       "      <th>High</th>\n",
       "      <th>Low</th>\n",
       "      <th>Close</th>\n",
       "      <th>Adj Close</th>\n",
       "      <th>Volume</th>\n",
       "      <th>market</th>\n",
       "    </tr>\n",
       "  </thead>\n",
       "  <tbody>\n",
       "    <tr>\n",
       "      <th>1398597</th>\n",
       "      <td>2015-02-16</td>\n",
       "      <td>city.mumbai</td>\n",
       "      <td>27 detected with swine flu over weekend in Mumbai</td>\n",
       "      <td>2015</td>\n",
       "      <td>2</td>\n",
       "      <td>16</td>\n",
       "      <td>0.000</td>\n",
       "      <td>0.245</td>\n",
       "      <td>0.755</td>\n",
       "      <td>-0.3818</td>\n",
       "      <td>-1.0</td>\n",
       "      <td>29170.769531</td>\n",
       "      <td>29325.349609</td>\n",
       "      <td>29083.400391</td>\n",
       "      <td>29135.880859</td>\n",
       "      <td>29135.880859</td>\n",
       "      <td>10500.0</td>\n",
       "      <td>0.0</td>\n",
       "    </tr>\n",
       "    <tr>\n",
       "      <th>317218</th>\n",
       "      <td>2007-02-08</td>\n",
       "      <td>city.pune</td>\n",
       "      <td>Chance to glance at Sunita's space abode today</td>\n",
       "      <td>2007</td>\n",
       "      <td>2</td>\n",
       "      <td>8</td>\n",
       "      <td>0.222</td>\n",
       "      <td>0.000</td>\n",
       "      <td>0.778</td>\n",
       "      <td>0.2500</td>\n",
       "      <td>1.0</td>\n",
       "      <td>14690.580078</td>\n",
       "      <td>14697.690430</td>\n",
       "      <td>14523.160156</td>\n",
       "      <td>14652.089844</td>\n",
       "      <td>14652.089844</td>\n",
       "      <td>11600.0</td>\n",
       "      <td>0.0</td>\n",
       "    </tr>\n",
       "    <tr>\n",
       "      <th>1145579</th>\n",
       "      <td>2013-07-15</td>\n",
       "      <td>city.allahabad</td>\n",
       "      <td>Govt departments shy away from blood donation</td>\n",
       "      <td>2013</td>\n",
       "      <td>7</td>\n",
       "      <td>15</td>\n",
       "      <td>0.000</td>\n",
       "      <td>0.250</td>\n",
       "      <td>0.750</td>\n",
       "      <td>-0.2500</td>\n",
       "      <td>-1.0</td>\n",
       "      <td>19926.099609</td>\n",
       "      <td>20072.439453</td>\n",
       "      <td>19883.189453</td>\n",
       "      <td>20034.480469</td>\n",
       "      <td>20034.480469</td>\n",
       "      <td>7000.0</td>\n",
       "      <td>1.0</td>\n",
       "    </tr>\n",
       "    <tr>\n",
       "      <th>487486</th>\n",
       "      <td>2009-03-04</td>\n",
       "      <td>city.goa</td>\n",
       "      <td>Payment of Sonsoddo bills puts MMC in a fix</td>\n",
       "      <td>2009</td>\n",
       "      <td>3</td>\n",
       "      <td>4</td>\n",
       "      <td>0.000</td>\n",
       "      <td>0.000</td>\n",
       "      <td>1.000</td>\n",
       "      <td>0.0000</td>\n",
       "      <td>0.0</td>\n",
       "      <td>8473.250000</td>\n",
       "      <td>8501.459961</td>\n",
       "      <td>8373.240234</td>\n",
       "      <td>8446.490234</td>\n",
       "      <td>8446.490234</td>\n",
       "      <td>40600.0</td>\n",
       "      <td>0.0</td>\n",
       "    </tr>\n",
       "    <tr>\n",
       "      <th>1845229</th>\n",
       "      <td>2017-09-21</td>\n",
       "      <td>business.international-business</td>\n",
       "      <td>St. Louis approves police body cameras ahead o...</td>\n",
       "      <td>2017</td>\n",
       "      <td>9</td>\n",
       "      <td>21</td>\n",
       "      <td>0.209</td>\n",
       "      <td>0.170</td>\n",
       "      <td>0.620</td>\n",
       "      <td>0.1298</td>\n",
       "      <td>0.0</td>\n",
       "      <td>32406.419922</td>\n",
       "      <td>32462.609375</td>\n",
       "      <td>32164.419922</td>\n",
       "      <td>32370.039063</td>\n",
       "      <td>32370.039063</td>\n",
       "      <td>8700.0</td>\n",
       "      <td>0.0</td>\n",
       "    </tr>\n",
       "  </tbody>\n",
       "</table>\n",
       "</div>"
      ],
      "text/plain": [
       "              Date                headline_category  \\\n",
       "1398597 2015-02-16                      city.mumbai   \n",
       "317218  2007-02-08                        city.pune   \n",
       "1145579 2013-07-15                   city.allahabad   \n",
       "487486  2009-03-04                         city.goa   \n",
       "1845229 2017-09-21  business.international-business   \n",
       "\n",
       "                                             headline_text  year  month  day  \\\n",
       "1398597  27 detected with swine flu over weekend in Mumbai  2015      2   16   \n",
       "317218      Chance to glance at Sunita's space abode today  2007      2    8   \n",
       "1145579      Govt departments shy away from blood donation  2013      7   15   \n",
       "487486         Payment of Sonsoddo bills puts MMC in a fix  2009      3    4   \n",
       "1845229  St. Louis approves police body cameras ahead o...  2017      9   21   \n",
       "\n",
       "         positive  negative  neutral  compound  sentiment          Open  \\\n",
       "1398597     0.000     0.245    0.755   -0.3818       -1.0  29170.769531   \n",
       "317218      0.222     0.000    0.778    0.2500        1.0  14690.580078   \n",
       "1145579     0.000     0.250    0.750   -0.2500       -1.0  19926.099609   \n",
       "487486      0.000     0.000    1.000    0.0000        0.0   8473.250000   \n",
       "1845229     0.209     0.170    0.620    0.1298        0.0  32406.419922   \n",
       "\n",
       "                 High           Low         Close     Adj Close   Volume  \\\n",
       "1398597  29325.349609  29083.400391  29135.880859  29135.880859  10500.0   \n",
       "317218   14697.690430  14523.160156  14652.089844  14652.089844  11600.0   \n",
       "1145579  20072.439453  19883.189453  20034.480469  20034.480469   7000.0   \n",
       "487486    8501.459961   8373.240234   8446.490234   8446.490234  40600.0   \n",
       "1845229  32462.609375  32164.419922  32370.039063  32370.039063   8700.0   \n",
       "\n",
       "         market  \n",
       "1398597     0.0  \n",
       "317218      0.0  \n",
       "1145579     1.0  \n",
       "487486      0.0  \n",
       "1845229     0.0  "
      ]
     },
     "execution_count": 43,
     "metadata": {},
     "output_type": "execute_result"
    }
   ],
   "source": [
    "df.head()"
   ]
  },
  {
   "cell_type": "code",
   "execution_count": 44,
   "metadata": {},
   "outputs": [
    {
     "data": {
      "text/plain": [
       "(2244621, 18)"
      ]
     },
     "execution_count": 44,
     "metadata": {},
     "output_type": "execute_result"
    }
   ],
   "source": [
    "df.shape"
   ]
  },
  {
   "cell_type": "markdown",
   "metadata": {},
   "source": [
    "# dataset is quite large (22.5 lakhs datapoints). because of limited memory issue. we will use smaller dataset\n",
    "taking 100000 rows\n"
   ]
  },
  {
   "cell_type": "code",
   "execution_count": 45,
   "metadata": {},
   "outputs": [],
   "source": [
    "\n",
    "final = df.iloc[:100000 , :]"
   ]
  },
  {
   "cell_type": "markdown",
   "metadata": {},
   "source": [
    "**Taking Sensex 'Open' value and Sentiments of news headlines (positive, negative, neutral)**<br>\n",
    "**to predict whether Sensex will go up or down that day depending on news sentiment.**"
   ]
  },
  {
   "cell_type": "code",
   "execution_count": 47,
   "metadata": {},
   "outputs": [],
   "source": [
    "x = final[['Open','positive', 'negative', 'neutral', 'compound']]\n",
    "y = final['market']"
   ]
  },
  {
   "cell_type": "markdown",
   "metadata": {},
   "source": [
    "Splitting train-test "
   ]
  },
  {
   "cell_type": "code",
   "execution_count": 48,
   "metadata": {},
   "outputs": [],
   "source": [
    "from sklearn.model_selection import train_test_split, GridSearchCV\n",
    "\n",
    "x_train, x_test, y_train, y_test = train_test_split(x,y, test_size=0.3, random_state=44)"
   ]
  },
  {
   "cell_type": "markdown",
   "metadata": {},
   "source": [
    "# using XGBoost Classifier and performing Grid Search to find best parameters."
   ]
  },
  {
   "cell_type": "code",
   "execution_count": 50,
   "metadata": {},
   "outputs": [
    {
     "name": "stdout",
     "output_type": "stream",
     "text": [
      "Fitting 3 folds for each of 8 candidates, totalling 24 fits\n",
      "[CV] max_depth=4, n_estimators=200 ...................................\n"
     ]
    },
    {
     "name": "stderr",
     "output_type": "stream",
     "text": [
      "[Parallel(n_jobs=1)]: Using backend SequentialBackend with 1 concurrent workers.\n"
     ]
    },
    {
     "name": "stdout",
     "output_type": "stream",
     "text": [
      "[CV] .................... max_depth=4, n_estimators=200, total=   4.1s\n",
      "[CV] max_depth=4, n_estimators=200 ...................................\n"
     ]
    },
    {
     "name": "stderr",
     "output_type": "stream",
     "text": [
      "[Parallel(n_jobs=1)]: Done   1 out of   1 | elapsed:    4.1s remaining:    0.0s\n"
     ]
    },
    {
     "name": "stdout",
     "output_type": "stream",
     "text": [
      "[CV] .................... max_depth=4, n_estimators=200, total=   3.9s\n",
      "[CV] max_depth=4, n_estimators=200 ...................................\n",
      "[CV] .................... max_depth=4, n_estimators=200, total=   3.9s\n",
      "[CV] max_depth=4, n_estimators=300 ...................................\n",
      "[CV] .................... max_depth=4, n_estimators=300, total=   5.7s\n",
      "[CV] max_depth=4, n_estimators=300 ...................................\n",
      "[CV] .................... max_depth=4, n_estimators=300, total=   5.7s\n",
      "[CV] max_depth=4, n_estimators=300 ...................................\n",
      "[CV] .................... max_depth=4, n_estimators=300, total=   5.8s\n",
      "[CV] max_depth=6, n_estimators=200 ...................................\n",
      "[CV] .................... max_depth=6, n_estimators=200, total=  11.1s\n",
      "[CV] max_depth=6, n_estimators=200 ...................................\n",
      "[CV] .................... max_depth=6, n_estimators=200, total=   4.8s\n",
      "[CV] max_depth=6, n_estimators=200 ...................................\n",
      "[CV] .................... max_depth=6, n_estimators=200, total=   5.4s\n",
      "[CV] max_depth=6, n_estimators=300 ...................................\n",
      "[CV] .................... max_depth=6, n_estimators=300, total=   9.8s\n",
      "[CV] max_depth=6, n_estimators=300 ...................................\n",
      "[CV] .................... max_depth=6, n_estimators=300, total=   8.3s\n",
      "[CV] max_depth=6, n_estimators=300 ...................................\n",
      "[CV] .................... max_depth=6, n_estimators=300, total=   9.7s\n",
      "[CV] max_depth=8, n_estimators=200 ...................................\n",
      "[CV] .................... max_depth=8, n_estimators=200, total=   8.6s\n",
      "[CV] max_depth=8, n_estimators=200 ...................................\n",
      "[CV] .................... max_depth=8, n_estimators=200, total=   7.9s\n",
      "[CV] max_depth=8, n_estimators=200 ...................................\n",
      "[CV] .................... max_depth=8, n_estimators=200, total=   7.8s\n",
      "[CV] max_depth=8, n_estimators=300 ...................................\n",
      "[CV] .................... max_depth=8, n_estimators=300, total=   9.6s\n",
      "[CV] max_depth=8, n_estimators=300 ...................................\n",
      "[CV] .................... max_depth=8, n_estimators=300, total=   9.2s\n",
      "[CV] max_depth=8, n_estimators=300 ...................................\n",
      "[CV] .................... max_depth=8, n_estimators=300, total=   9.1s\n",
      "[CV] max_depth=10, n_estimators=200 ..................................\n",
      "[CV] ................... max_depth=10, n_estimators=200, total=   9.4s\n",
      "[CV] max_depth=10, n_estimators=200 ..................................\n",
      "[CV] ................... max_depth=10, n_estimators=200, total=   8.8s\n",
      "[CV] max_depth=10, n_estimators=200 ..................................\n",
      "[CV] ................... max_depth=10, n_estimators=200, total=   7.5s\n",
      "[CV] max_depth=10, n_estimators=300 ..................................\n",
      "[CV] ................... max_depth=10, n_estimators=300, total=  10.7s\n",
      "[CV] max_depth=10, n_estimators=300 ..................................\n",
      "[CV] ................... max_depth=10, n_estimators=300, total=  10.6s\n",
      "[CV] max_depth=10, n_estimators=300 ..................................\n",
      "[CV] ................... max_depth=10, n_estimators=300, total=  10.4s\n"
     ]
    },
    {
     "name": "stderr",
     "output_type": "stream",
     "text": [
      "[Parallel(n_jobs=1)]: Done  24 out of  24 | elapsed:  3.1min finished\n"
     ]
    },
    {
     "data": {
      "text/plain": [
       "GridSearchCV(cv=3, estimator=XGBClassifier(),\n",
       "             param_grid={'max_depth': [4, 6, 8, 10],\n",
       "                         'n_estimators': [200, 300]},\n",
       "             verbose=2)"
      ]
     },
     "execution_count": 50,
     "metadata": {},
     "output_type": "execute_result"
    }
   ],
   "source": [
    "from xgboost import XGBClassifier\n",
    "\n",
    "xgb = XGBClassifier()\n",
    "\n",
    "param_grid = {\n",
    "             'max_depth':[4,6,8,10],\n",
    "             'n_estimators':[200,300]\n",
    "             }\n",
    "\n",
    "gscv = GridSearchCV( xgb, param_grid, verbose=2 , cv=3)\n",
    "\n",
    "gscv.fit(x_train, y_train)"
   ]
  },
  {
   "cell_type": "code",
   "execution_count": 51,
   "metadata": {},
   "outputs": [
    {
     "name": "stdout",
     "output_type": "stream",
     "text": [
      "best parameters :  {'max_depth': 10, 'n_estimators': 300}\n"
     ]
    }
   ],
   "source": [
    "print('best parameters : ',gscv.best_params_)"
   ]
  },
  {
   "cell_type": "code",
   "execution_count": 52,
   "metadata": {},
   "outputs": [
    {
     "data": {
      "text/plain": [
       "XGBClassifier(max_depth=10, n_estimators=300)"
      ]
     },
     "execution_count": 52,
     "metadata": {},
     "output_type": "execute_result"
    }
   ],
   "source": [
    "final_model = XGBClassifier(**gscv.best_params_)\n",
    "\n",
    "final_model.fit(x_train,y_train)"
   ]
  },
  {
   "cell_type": "code",
   "execution_count": 54,
   "metadata": {},
   "outputs": [],
   "source": [
    "from sklearn.metrics import classification_report, accuracy_score"
   ]
  },
  {
   "cell_type": "code",
   "execution_count": 56,
   "metadata": {},
   "outputs": [
    {
     "name": "stdout",
     "output_type": "stream",
     "text": [
      "              precision    recall  f1-score   support\n",
      "\n",
      "         0.0       0.96      0.93      0.94     16684\n",
      "         1.0       0.92      0.95      0.93     13316\n",
      "\n",
      "    accuracy                           0.94     30000\n",
      "   macro avg       0.94      0.94      0.94     30000\n",
      "weighted avg       0.94      0.94      0.94     30000\n",
      "\n",
      "accuracy :  0.9391\n"
     ]
    }
   ],
   "source": [
    "pred = final_model.predict(x_test)\n",
    "\n",
    "print(classification_report(pred, y_test))\n",
    "print('accuracy : ', accuracy_score(pred, y_test))"
   ]
  },
  {
   "cell_type": "code",
   "execution_count": null,
   "metadata": {},
   "outputs": [],
   "source": []
  },
  {
   "cell_type": "markdown",
   "metadata": {},
   "source": [
    "**Conclusion:-**\n",
    "Here we XGBoost Classifier, it has 93% accuracy.\n",
    "\n",
    "Label(market) indicates that **1** for **price(Sensex) increase** and **0** for **price(Sensex) decrease**.\n",
    "\n",
    "If a sensex will increase or decrease based on news headlines using sentiment analysis.\n",
    "This model will predict if the sensex will increase or decrease based on the sentiment of top news article headlines on that day."
   ]
  },
  {
   "cell_type": "code",
   "execution_count": null,
   "metadata": {},
   "outputs": [],
   "source": [
    "####################################################################################"
   ]
  },
  {
   "cell_type": "code",
   "execution_count": null,
   "metadata": {},
   "outputs": [],
   "source": []
  },
  {
   "cell_type": "code",
   "execution_count": null,
   "metadata": {},
   "outputs": [],
   "source": []
  },
  {
   "cell_type": "code",
   "execution_count": null,
   "metadata": {},
   "outputs": [],
   "source": []
  }
 ],
 "metadata": {
  "kernelspec": {
   "display_name": "Python 3",
   "language": "python",
   "name": "python3"
  },
  "language_info": {
   "codemirror_mode": {
    "name": "ipython",
    "version": 3
   },
   "file_extension": ".py",
   "mimetype": "text/x-python",
   "name": "python",
   "nbconvert_exporter": "python",
   "pygments_lexer": "ipython3",
   "version": "3.7.3"
  }
 },
 "nbformat": 4,
 "nbformat_minor": 2
}
